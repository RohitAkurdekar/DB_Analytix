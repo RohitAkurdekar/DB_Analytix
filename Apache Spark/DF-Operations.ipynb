{
 "cells": [
  {
   "cell_type": "code",
   "execution_count": 2,
   "metadata": {},
   "outputs": [],
   "source": [
    "import findspark\n",
    "findspark.init('/usr/local/spark')\n",
    "import pyspark"
   ]
  },
  {
   "cell_type": "code",
   "execution_count": 19,
   "metadata": {},
   "outputs": [],
   "source": [
    "from pyspark.sql import SparkSession\n",
    "Spark = SparkSession.builder.appName(\"Spark DF example\").getOrCreate()\n"
   ]
  },
  {
   "cell_type": "code",
   "execution_count": 22,
   "metadata": {},
   "outputs": [],
   "source": [
    "customerDF = Spark.read.load(\"/home/hduser/Desktop/cust/customers.txt\",format=\"csv\",sep=\"\\t\",inferSchema=\"true\",header=\"true\")"
   ]
  },
  {
   "cell_type": "code",
   "execution_count": 23,
   "metadata": {},
   "outputs": [
    {
     "data": {
      "text/plain": [
       "1244"
      ]
     },
     "execution_count": 23,
     "metadata": {},
     "output_type": "execute_result"
    }
   ],
   "source": [
    "customerDF.count()"
   ]
  },
  {
   "cell_type": "code",
   "execution_count": 32,
   "metadata": {},
   "outputs": [],
   "source": [
    "cnt = customerDF.distinct()"
   ]
  },
  {
   "cell_type": "code",
   "execution_count": 33,
   "metadata": {},
   "outputs": [
    {
     "name": "stdout",
     "output_type": "stream",
     "text": [
      "+-----------+-----------------+-------------+--------------+----------------+\n",
      "|customer_id|    customer_name|customer_city|customer_state|customer_zipcode|\n",
      "+-----------+-----------------+-------------+--------------+----------------+\n",
      "|       6336|   Richard Maddox|       Caguas|            PR|             725|\n",
      "|       5222|   Evelyn Vincent|  Saint Louis|            MO|           63136|\n",
      "|       4727|     Amanda Estes|     Honolulu|            HI|           96822|\n",
      "|       3311|     Ryan Shelton|       Caguas|            PR|             725|\n",
      "|        332|       Mary Smith|    Placentia|            CA|           92870|\n",
      "|       3852|        Roy Potts|      Orlando|            FL|           32822|\n",
      "|       5377|    Crystal Jones|   Middletown|            OH|           45044|\n",
      "|       5915|    Mary Hamilton|Lawrenceville|            GA|           30043|\n",
      "|       1518|    Jessica Smith|    Baltimore|            MD|           21229|\n",
      "|       3627|       Mary Smith|       Caguas|            PR|             725|\n",
      "|      11500|      Mary Martin|       Caguas|            PR|             725|\n",
      "|       2197|     Joseph Smith|       Caguas|            PR|             725|\n",
      "|       7551|Robert Richardson|      El Paso|            TX|           79907|\n",
      "|      12431|        Mary Rios|      Kaneohe|            HI|           96744|\n",
      "|        917|     Andrew Glenn|     Palatine|            IL|           60067|\n",
      "|      10073|        Megan Lee|  West Orange|            NJ|            7052|\n",
      "|       2638|       Mary Hardy|       Caguas|            PR|             725|\n",
      "|       9359|     Nancy Campos|       Beloit|            WI|           53511|\n",
      "|       5725|       Mary Smith|     Brooklyn|            NY|           11219|\n",
      "|       1581|       Mary Smith|  Saint Louis|            MO|           63116|\n",
      "+-----------+-----------------+-------------+--------------+----------------+\n",
      "only showing top 20 rows\n",
      "\n"
     ]
    }
   ],
   "source": [
    "cnt.show()"
   ]
  },
  {
   "cell_type": "code",
   "execution_count": 21,
   "metadata": {},
   "outputs": [
    {
     "name": "stdout",
     "output_type": "stream",
     "text": [
      "+-----------+--------------+\n",
      "|customer_id| customer_name|\n",
      "+-----------+--------------+\n",
      "|      11039|   Mary Torres|\n",
      "|       5623|    Jose Haley|\n",
      "|       5829|    Mary Smith|\n",
      "|       6336|Richard Maddox|\n",
      "|       1708|Margaret Booth|\n",
      "+-----------+--------------+\n",
      "only showing top 5 rows\n",
      "\n"
     ]
    }
   ],
   "source": [
    "customerDF.select('customer_id','customer_name').show(5)"
   ]
  },
  {
   "cell_type": "code",
   "execution_count": 22,
   "metadata": {},
   "outputs": [
    {
     "name": "stdout",
     "output_type": "stream",
     "text": [
      "+-----------+--------------+--------------+\n",
      "|customer_id| customer_name|customer_state|\n",
      "+-----------+--------------+--------------+\n",
      "|      11039|   Mary Torres|            PR|\n",
      "|       5623|    Jose Haley|            OH|\n",
      "|       5829|    Mary Smith|            TX|\n",
      "|       6336|Richard Maddox|            PR|\n",
      "|       1708|Margaret Booth|            TX|\n",
      "|      10227|Mary Henderson|            PR|\n",
      "|        839|   Lisa Walker|            PR|\n",
      "|       7604| Jonathan Hill|            AZ|\n",
      "+-----------+--------------+--------------+\n",
      "only showing top 8 rows\n",
      "\n"
     ]
    }
   ],
   "source": [
    "customerDF.select('customer_id','customer_name','customer_state').show(8)"
   ]
  },
  {
   "cell_type": "code",
   "execution_count": 26,
   "metadata": {},
   "outputs": [
    {
     "name": "stdout",
     "output_type": "stream",
     "text": [
      "+-----------+--------------+\n",
      "|customer_id| customer_name|\n",
      "+-----------+--------------+\n",
      "|      11039|   Mary Torres|\n",
      "|       5623|    Jose Haley|\n",
      "|       5829|    Mary Smith|\n",
      "|       6336|Richard Maddox|\n",
      "|       1708|Margaret Booth|\n",
      "+-----------+--------------+\n",
      "only showing top 5 rows\n",
      "\n"
     ]
    }
   ],
   "source": [
    "customerDF1.show(5)"
   ]
  },
  {
   "cell_type": "code",
   "execution_count": 27,
   "metadata": {},
   "outputs": [
    {
     "name": "stdout",
     "output_type": "stream",
     "text": [
      "+-----------+-----------------+--------------------+--------------+----------------+\n",
      "|customer_id|    customer_name|       customer_city|customer_state|customer_zipcode|\n",
      "+-----------+-----------------+--------------------+--------------+----------------+\n",
      "|       5829|       Mary Smith|             Houston|            TX|           77015|\n",
      "|       1708|   Margaret Booth|           Arlington|            TX|           76010|\n",
      "|        371|     Adam Marquez|         San Antonio|            TX|           78223|\n",
      "|       1209|        Mary Webb|          San Marcos|            TX|           78666|\n",
      "|       8688|    Michelle Rose|          Eagle Pass|            TX|           78852|\n",
      "|       9756|       Mary White|              Dallas|            TX|           75228|\n",
      "|       6252|      Kevin Smith|          Carrollton|            TX|           75006|\n",
      "|       8582|     Edward Smith|             Houston|            TX|           77088|\n",
      "|       3135|       Helen Ward|             Houston|            TX|           77093|\n",
      "|       5960|   Margaret Smith|          Round Rock|            TX|           78664|\n",
      "|       1076|   Tyler Thompson|          Fort Worth|            TX|           76116|\n",
      "|       2159| Kimberly Sweeney|North Richland Hills|            TX|           76180|\n",
      "|       2420|       Mary Smith|             Weslaco|            TX|           78596|\n",
      "|       1870|    Tiffany Greer|            Amarillo|            TX|           79109|\n",
      "|       6075|       Mary Smith|              Austin|            TX|           78753|\n",
      "|      11363|       Frank Paul|             Garland|            TX|           75040|\n",
      "|       4539| Jacqueline James|             Houston|            TX|           77083|\n",
      "|      10460|    Mary Morrison|       New Braunfels|            TX|           78130|\n",
      "|       8498|Joseph Pennington|             Baytown|            TX|           77520|\n",
      "|        979|       Mary Smith|              Austin|            TX|           78745|\n",
      "+-----------+-----------------+--------------------+--------------+----------------+\n",
      "only showing top 20 rows\n",
      "\n"
     ]
    }
   ],
   "source": [
    "customerDF.filter(customerDF['customer_state']=='TX').show()"
   ]
  },
  {
   "cell_type": "code",
   "execution_count": 29,
   "metadata": {},
   "outputs": [],
   "source": [
    "custTX=customerDF.select('customer_id','customer_name','customer_state').filter(customerDF['customer_state']=='TX')"
   ]
  },
  {
   "cell_type": "code",
   "execution_count": 30,
   "metadata": {},
   "outputs": [
    {
     "data": {
      "text/plain": [
       "62"
      ]
     },
     "execution_count": 30,
     "metadata": {},
     "output_type": "execute_result"
    }
   ],
   "source": [
    "custTX.count()"
   ]
  },
  {
   "cell_type": "code",
   "execution_count": 27,
   "metadata": {},
   "outputs": [],
   "source": [
    "customerDF.createOrReplaceTempView(\"customers\")"
   ]
  },
  {
   "cell_type": "code",
   "execution_count": 28,
   "metadata": {},
   "outputs": [
    {
     "name": "stdout",
     "output_type": "stream",
     "text": [
      "+-----------+----------------+-------------+--------------+----------------+\n",
      "|customer_id|   customer_name|customer_city|customer_state|customer_zipcode|\n",
      "+-----------+----------------+-------------+--------------+----------------+\n",
      "|      11039|     Mary Torres|       Caguas|            PR|             725|\n",
      "|       5623|      Jose Haley|     Columbus|            OH|           43207|\n",
      "|       5829|      Mary Smith|      Houston|            TX|           77015|\n",
      "|       6336|  Richard Maddox|       Caguas|            PR|             725|\n",
      "|       1708|  Margaret Booth|    Arlington|            TX|           76010|\n",
      "|      10227|  Mary Henderson|       Caguas|            PR|             725|\n",
      "|        839|     Lisa Walker|       Caguas|            PR|             725|\n",
      "|       7604|   Jonathan Hill|      Phoenix|            AZ|           85040|\n",
      "|       6485|Carolyn Sheppard|Pompano Beach|            FL|           33063|\n",
      "|       4737|    Mary Mendoza|       Caguas|            PR|             725|\n",
      "|       5973|   Michael Smith|       Caguas|            PR|             725|\n",
      "|       9205|    James Holmes|     Hilliard|            OH|           43026|\n",
      "|        138|     Mary Dawson|       Caguas|            PR|             725|\n",
      "|        371|    Adam Marquez|  San Antonio|            TX|           78223|\n",
      "|       9285|    Gloria Smith|       Caguas|            PR|             725|\n",
      "|       1209|       Mary Webb|   San Marcos|            TX|           78666|\n",
      "|       3021|  Nancy Alvarado|     Flushing|            NY|           11354|\n",
      "|       3354|  Russell Flores|       Caguas|            PR|             725|\n",
      "|      11684|    Denise Smith|    Rego Park|            NY|           11374|\n",
      "|      11144|  Jose Dickerson|         Mesa|            AZ|           85201|\n",
      "+-----------+----------------+-------------+--------------+----------------+\n",
      "only showing top 20 rows\n",
      "\n"
     ]
    }
   ],
   "source": [
    "Spark.sql('select * from customers').show()"
   ]
  },
  {
   "cell_type": "code",
   "execution_count": 29,
   "metadata": {
    "scrolled": true
   },
   "outputs": [],
   "source": [
    "cStateCount50=Spark.sql(\"select customer_state, count(*) as state_count FROM customers GROUP BY customer_state HAVING state_count>=50\")"
   ]
  },
  {
   "cell_type": "code",
   "execution_count": 30,
   "metadata": {},
   "outputs": [
    {
     "name": "stdout",
     "output_type": "stream",
     "text": [
      "+--------------+-----------+\n",
      "|customer_state|state_count|\n",
      "+--------------+-----------+\n",
      "|            CA|        187|\n",
      "|            NY|         79|\n",
      "|            TX|         62|\n",
      "|            PR|        505|\n",
      "+--------------+-----------+\n",
      "\n"
     ]
    }
   ],
   "source": [
    "cStateCount50.show()"
   ]
  },
  {
   "cell_type": "code",
   "execution_count": 51,
   "metadata": {},
   "outputs": [],
   "source": [
    "customerNewDF = Spark.read.load(\"/home/hduser/Desktop/cust/customers\",format=\"csv\",sep=\",\",inferSchema=\"true\")"
   ]
  },
  {
   "cell_type": "code",
   "execution_count": 39,
   "metadata": {},
   "outputs": [
    {
     "name": "stdout",
     "output_type": "stream",
     "text": [
      "+---+-------+---------+---------+---------+--------------------+-----------+---+-----+\n",
      "|_c0|    _c1|      _c2|      _c3|      _c4|                 _c5|        _c6|_c7|  _c8|\n",
      "+---+-------+---------+---------+---------+--------------------+-----------+---+-----+\n",
      "|  1|Richard|Hernandez|XXXXXXXXX|XXXXXXXXX|  6303 Heather Plaza|Brownsville| TX|78521|\n",
      "|  2|   Mary|  Barrett|XXXXXXXXX|XXXXXXXXX|9526 Noble Embers...|  Littleton| CO|80126|\n",
      "|  3|    Ann|    Smith|XXXXXXXXX|XXXXXXXXX|3422 Blue Pioneer...|     Caguas| PR|  725|\n",
      "|  4|   Mary|    Jones|XXXXXXXXX|XXXXXXXXX|  8324 Little Common| San Marcos| CA|92069|\n",
      "|  5| Robert|   Hudson|XXXXXXXXX|XXXXXXXXX|10 Crystal River ...|     Caguas| PR|  725|\n",
      "+---+-------+---------+---------+---------+--------------------+-----------+---+-----+\n",
      "only showing top 5 rows\n",
      "\n"
     ]
    }
   ],
   "source": [
    "customerNewDF.show(5)"
   ]
  },
  {
   "cell_type": "code",
   "execution_count": 33,
   "metadata": {},
   "outputs": [
    {
     "name": "stdout",
     "output_type": "stream",
     "text": [
      "DataFrame[1: int, Richard: string, Hernandez: string, XXXXXXXXX3: string, XXXXXXXXX4: string, 6303 Heather Plaza: string, Brownsville: string, TX: string, 78521: int]\n"
     ]
    },
    {
     "data": {
      "text/plain": [
       "NoneType"
      ]
     },
     "execution_count": 33,
     "metadata": {},
     "output_type": "execute_result"
    }
   ],
   "source": [
    "type(print(customerNewDF))"
   ]
  },
  {
   "cell_type": "code",
   "execution_count": 52,
   "metadata": {},
   "outputs": [],
   "source": [
    "customerNewDF = customerNewDF.withColumnRenamed(\"_c0\",\"customer_id\")\\\n",
    ".withColumnRenamed(\"_c1\",\"customer_fname\")\\\n",
    ".withColumnRenamed(\"_c2\",\"customer_lname\")\\\n",
    ".withColumnRenamed(\"_c3\",\"customer_email\")\\\n",
    ".withColumnRenamed(\"_c4\",\"customer_password\")\\\n",
    ".withColumnRenamed(\"_c5\",\"customer_street\")\\\n",
    ".withColumnRenamed(\"_c6\",\"customer_city\")\\\n",
    ".withColumnRenamed(\"_c7\",\"customer_state\")\\\n",
    ".withColumnRenamed(\"_c8\",\"customer_zipcode\")\\"
   ]
  },
  {
   "cell_type": "code",
   "execution_count": 43,
   "metadata": {},
   "outputs": [
    {
     "name": "stdout",
     "output_type": "stream",
     "text": [
      "+-----------+--------------+--------------+--------------+-----------------+--------------------+-------------+--------------+----------------+\n",
      "|customer_id|customer_fname|customer_lname|customer_email|customer_password|     customer_street|customer_city|customer_state|customer_zipcode|\n",
      "+-----------+--------------+--------------+--------------+-----------------+--------------------+-------------+--------------+----------------+\n",
      "|          1|       Richard|     Hernandez|     XXXXXXXXX|        XXXXXXXXX|  6303 Heather Plaza|  Brownsville|            TX|           78521|\n",
      "|          2|          Mary|       Barrett|     XXXXXXXXX|        XXXXXXXXX|9526 Noble Embers...|    Littleton|            CO|           80126|\n",
      "|          3|           Ann|         Smith|     XXXXXXXXX|        XXXXXXXXX|3422 Blue Pioneer...|       Caguas|            PR|             725|\n",
      "|          4|          Mary|         Jones|     XXXXXXXXX|        XXXXXXXXX|  8324 Little Common|   San Marcos|            CA|           92069|\n",
      "|          5|        Robert|        Hudson|     XXXXXXXXX|        XXXXXXXXX|10 Crystal River ...|       Caguas|            PR|             725|\n",
      "+-----------+--------------+--------------+--------------+-----------------+--------------------+-------------+--------------+----------------+\n",
      "only showing top 5 rows\n",
      "\n"
     ]
    }
   ],
   "source": [
    "customerNewDF.show(5)"
   ]
  },
  {
   "cell_type": "code",
   "execution_count": 44,
   "metadata": {},
   "outputs": [],
   "source": [
    "ordersNewDF = Spark.read.load(\"/home/hduser/Desktop/cust/orders\",format=\"csv\",sep=\",\",inferSchema=\"true\")"
   ]
  },
  {
   "cell_type": "code",
   "execution_count": 45,
   "metadata": {},
   "outputs": [
    {
     "name": "stdout",
     "output_type": "stream",
     "text": [
      "+---+-------------------+-----+---------------+\n",
      "|_c0|                _c1|  _c2|            _c3|\n",
      "+---+-------------------+-----+---------------+\n",
      "|  1|2013-07-25 00:00:00|11599|         CLOSED|\n",
      "|  2|2013-07-25 00:00:00|  256|PENDING_PAYMENT|\n",
      "|  3|2013-07-25 00:00:00|12111|       COMPLETE|\n",
      "|  4|2013-07-25 00:00:00| 8827|         CLOSED|\n",
      "|  5|2013-07-25 00:00:00|11318|       COMPLETE|\n",
      "+---+-------------------+-----+---------------+\n",
      "only showing top 5 rows\n",
      "\n"
     ]
    }
   ],
   "source": [
    "ordersNewDF.show(5)"
   ]
  },
  {
   "cell_type": "code",
   "execution_count": 49,
   "metadata": {},
   "outputs": [],
   "source": [
    "ordersNewDF =ordersNewDF.withColumnRenamed(\"_c0\",\"order_id\")\\\n",
    ".withColumnRenamed(\"_c1\",\"order_date\")\\\n",
    ".withColumnRenamed(\"_c2\",\"order_customer_id\")\\\n",
    ".withColumnRenamed(\"_c3\",\"order_status\")\\\n"
   ]
  },
  {
   "cell_type": "code",
   "execution_count": 50,
   "metadata": {},
   "outputs": [
    {
     "name": "stdout",
     "output_type": "stream",
     "text": [
      "+--------+-------------------+-----------------+---------------+\n",
      "|order_id|         order_date|order_customer_id|   order_status|\n",
      "+--------+-------------------+-----------------+---------------+\n",
      "|       1|2013-07-25 00:00:00|            11599|         CLOSED|\n",
      "|       2|2013-07-25 00:00:00|              256|PENDING_PAYMENT|\n",
      "|       3|2013-07-25 00:00:00|            12111|       COMPLETE|\n",
      "|       4|2013-07-25 00:00:00|             8827|         CLOSED|\n",
      "|       5|2013-07-25 00:00:00|            11318|       COMPLETE|\n",
      "+--------+-------------------+-----------------+---------------+\n",
      "only showing top 5 rows\n",
      "\n"
     ]
    }
   ],
   "source": [
    "ordersNewDF.show(5)"
   ]
  },
  {
   "cell_type": "code",
   "execution_count": 57,
   "metadata": {},
   "outputs": [],
   "source": [
    "customerNewDF.createOrReplaceTempView(\"customer\")"
   ]
  },
  {
   "cell_type": "code",
   "execution_count": 59,
   "metadata": {},
   "outputs": [],
   "source": [
    "ordersNewDF.createOrReplaceTempView(\"order\")"
   ]
  },
  {
   "cell_type": "code",
   "execution_count": 64,
   "metadata": {},
   "outputs": [],
   "source": [
    "result=Spark.sql(\"SELECT o.order_customer_id, c.customer_fname,c.customer_lname,count(1) cnt \\\n",
    "FROM order o JOIN customer c \\\n",
    "ON o.order_customer_id = c.customer_id \\\n",
    "where c.customer_fname like 'M%' \\\n",
    "GROUP BY o.order_customer_id , c.customer_fname , c.customer_lname \\\n",
    "HAVING count(1)>5 \\\n",
    "ORDER BY cnt DESC\")"
   ]
  },
  {
   "cell_type": "code",
   "execution_count": 61,
   "metadata": {
    "scrolled": true
   },
   "outputs": [
    {
     "name": "stdout",
     "output_type": "stream",
     "text": [
      "+-----------------+--------------+--------------+---+\n",
      "|order_customer_id|customer_fname|customer_lname|cnt|\n",
      "+-----------------+--------------+--------------+---+\n",
      "|            12431|          Mary|          Rios| 16|\n",
      "|             5897|          Mary|       Griffin| 16|\n",
      "|              569|          Mary|          Frye| 16|\n",
      "|            12284|          Mary|         Smith| 15|\n",
      "|             5624|          Mary|          Mata| 15|\n",
      "|              221|          Mary|           Cox| 15|\n",
      "|             1011|          Mary|         Smith| 14|\n",
      "|              791|          Mary|         Smith| 14|\n",
      "|             4249|          Mary|        Butler| 14|\n",
      "|             4517|          Mary|         Cline| 14|\n",
      "|             4116|          Mary|         Smith| 14|\n",
      "|             6229|          Mary|         Smith| 13|\n",
      "|             1826|       Matthew|         Smith| 13|\n",
      "|             4930|          Mary|       Preston| 13|\n",
      "|             5216|          Mary|         Pitts| 13|\n",
      "|             7910|          Mary|       Camacho| 13|\n",
      "|             8666|          Mary|         Smith| 13|\n",
      "|             3763|          Mary|      Martinez| 13|\n",
      "|             8015|          Mary|     Blackburn| 13|\n",
      "|            11645|          Mary|          Ward| 13|\n",
      "+-----------------+--------------+--------------+---+\n",
      "only showing top 20 rows\n",
      "\n"
     ]
    }
   ],
   "source": [
    "result.show()"
   ]
  },
  {
   "cell_type": "code",
   "execution_count": 130,
   "metadata": {},
   "outputs": [],
   "source": [
    "CategoryDF = Spark.read.load(\"/home/hduser/Desktop/cust/categories\",format=\"csv\",sep=\",\",inferSchema=\"true\")"
   ]
  },
  {
   "cell_type": "code",
   "execution_count": 131,
   "metadata": {},
   "outputs": [],
   "source": [
    "CategoryDF =CategoryDF.withColumnRenamed(\"_c0\",\"category_id\")\\\n",
    ".withColumnRenamed(\"_c1\",\"category_department_id\")\\\n",
    ".withColumnRenamed(\"_c2\",\"category_name\")"
   ]
  },
  {
   "cell_type": "code",
   "execution_count": 132,
   "metadata": {},
   "outputs": [],
   "source": [
    "ProductDF = Spark.read.load(\"/home/hduser/Desktop/cust/products\",format=\"csv\",sep=\",\",inferSchema=\"true\")"
   ]
  },
  {
   "cell_type": "code",
   "execution_count": 133,
   "metadata": {},
   "outputs": [],
   "source": [
    "ProductDF = ProductDF.withColumnRenamed(\"_c0\",\"product_id\")\\\n",
    ".withColumnRenamed(\"_c1\",\"product_category_id\")\\\n",
    ".withColumnRenamed(\"_c2\",\"product_name\")\\\n",
    ".withColumnRenamed(\"_c3\",\"product_discription\")\\\n",
    ".withColumnRenamed(\"_c4\",\"product_price\")\\\n",
    ".withColumnRenamed(\"_c5\",\"product_image\")\\"
   ]
  },
  {
   "cell_type": "code",
   "execution_count": 134,
   "metadata": {},
   "outputs": [],
   "source": [
    "ProductDF.createOrReplaceTempView(\"product\")\n",
    "CategoryDF.createOrReplaceTempView(\"category\")"
   ]
  },
  {
   "cell_type": "code",
   "execution_count": 135,
   "metadata": {},
   "outputs": [],
   "source": [
    "result11 = Spark.sql(\"SELECT product_category_id,category_name, \\\n",
    "round(Max(product_price),2) max_price, \\\n",
    "round(Min(product_price),2) min_price, \\\n",
    "round(Avg(product_price),2) avg_price \\\n",
    "FROM product p \\\n",
    "JOIN category c \\\n",
    "ON p.product_category_id =c.category_id \\\n",
    "GROUP BY product_category_id, category_name\")"
   ]
  },
  {
   "cell_type": "code",
   "execution_count": 136,
   "metadata": {},
   "outputs": [
    {
     "name": "stdout",
     "output_type": "stream",
     "text": [
      "+-------------------+----------------+---------+---------+---------+\n",
      "|product_category_id|   category_name|max_price|min_price|avg_price|\n",
      "+-------------------+----------------+---------+---------+---------+\n",
      "|                 41|        Trade-In|   399.99|     9.59|    74.06|\n",
      "|                 30|Men's Golf Clubs|   139.99|     68.0|   114.07|\n",
      "|                 32|    Golf Apparel|   999.99|    19.99|   289.57|\n",
      "|                 58|     NFL Players|    241.0|     22.0|    81.17|\n",
      "|                 26|  Girls' Apparel|     90.0|     18.0|    41.66|\n",
      "+-------------------+----------------+---------+---------+---------+\n",
      "only showing top 5 rows\n",
      "\n"
     ]
    }
   ],
   "source": [
    "result11.show(5)"
   ]
  },
  {
   "cell_type": "code",
   "execution_count": 138,
   "metadata": {},
   "outputs": [],
   "source": [
    "from pyspark.sql.functions import mean,min,max,avg"
   ]
  },
  {
   "cell_type": "code",
   "execution_count": 139,
   "metadata": {},
   "outputs": [],
   "source": [
    "result12 = ProductDF.join(CategoryDF,ProductDF.product_category_id == CategoryDF.category_id)"
   ]
  },
  {
   "cell_type": "code",
   "execution_count": 144,
   "metadata": {},
   "outputs": [],
   "source": [
    "result13 = result12.select(max(result12.product_price).alias(\"max_product_price\"))"
   ]
  },
  {
   "cell_type": "code",
   "execution_count": 146,
   "metadata": {},
   "outputs": [],
   "source": [
    "result14 = result12.select(min(result12.product_price).alias(\"min_product_price\"))"
   ]
  },
  {
   "cell_type": "code",
   "execution_count": 145,
   "metadata": {},
   "outputs": [
    {
     "name": "stdout",
     "output_type": "stream",
     "text": [
      "+-----------------+\n",
      "|max_product_price|\n",
      "+-----------------+\n",
      "|          1999.99|\n",
      "+-----------------+\n",
      "\n"
     ]
    }
   ],
   "source": [
    "result13.show()"
   ]
  },
  {
   "cell_type": "code",
   "execution_count": 147,
   "metadata": {},
   "outputs": [
    {
     "name": "stdout",
     "output_type": "stream",
     "text": [
      "+-----------------+\n",
      "|min_product_price|\n",
      "+-----------------+\n",
      "|              0.0|\n",
      "+-----------------+\n",
      "\n"
     ]
    }
   ],
   "source": [
    "result14.show()"
   ]
  },
  {
   "cell_type": "code",
   "execution_count": 148,
   "metadata": {},
   "outputs": [],
   "source": [
    "result15 = result12.select(avg(result12.product_price).alias(\"avg_product_price\"))"
   ]
  },
  {
   "cell_type": "code",
   "execution_count": 149,
   "metadata": {},
   "outputs": [
    {
     "name": "stdout",
     "output_type": "stream",
     "text": [
      "+-----------------+\n",
      "|avg_product_price|\n",
      "+-----------------+\n",
      "|125.9152914458746|\n",
      "+-----------------+\n",
      "\n"
     ]
    }
   ],
   "source": [
    "result15.show()"
   ]
  },
  {
   "cell_type": "code",
   "execution_count": 152,
   "metadata": {},
   "outputs": [
    {
     "ename": "SyntaxError",
     "evalue": "unexpected character after line continuation character (<ipython-input-152-dbe5ce7c4bcd>, line 3)",
     "output_type": "error",
     "traceback": [
      "\u001b[0;36m  File \u001b[0;32m\"<ipython-input-152-dbe5ce7c4bcd>\"\u001b[0;36m, line \u001b[0;32m3\u001b[0m\n\u001b[0;31m    max(\"product_price\").alias(\"max_product_price\"), \\\u001b[0m\n\u001b[0m                                                          ^\u001b[0m\n\u001b[0;31mSyntaxError\u001b[0m\u001b[0;31m:\u001b[0m unexpected character after line continuation character\n"
     ]
    }
   ],
   "source": []
  },
  {
   "cell_type": "code",
   "execution_count": null,
   "metadata": {},
   "outputs": [],
   "source": []
  }
 ],
 "metadata": {
  "kernelspec": {
   "display_name": "Python 3",
   "language": "python",
   "name": "python3"
  },
  "language_info": {
   "codemirror_mode": {
    "name": "ipython",
    "version": 3
   },
   "file_extension": ".py",
   "mimetype": "text/x-python",
   "name": "python",
   "nbconvert_exporter": "python",
   "pygments_lexer": "ipython3",
   "version": "3.5.2"
  }
 },
 "nbformat": 4,
 "nbformat_minor": 2
}
